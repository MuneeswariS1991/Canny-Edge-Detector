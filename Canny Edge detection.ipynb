{
 "cells": [
  {
   "cell_type": "code",
   "execution_count": 2,
   "metadata": {},
   "outputs": [
    {
     "ename": "error",
     "evalue": "OpenCV(4.2.0) C:\\projects\\opencv-python\\opencv\\modules\\imgproc\\src\\color.cpp:182: error: (-215:Assertion failed) !_src.empty() in function 'cv::cvtColor'\n",
     "output_type": "error",
     "traceback": [
      "\u001b[1;31m---------------------------------------------------------------------------\u001b[0m",
      "\u001b[1;31merror\u001b[0m                                     Traceback (most recent call last)",
      "\u001b[1;32m<ipython-input-2-4538d553e95b>\u001b[0m in \u001b[0;36m<module>\u001b[1;34m\u001b[0m\n\u001b[0;32m     19\u001b[0m \u001b[1;33m\u001b[0m\u001b[0m\n\u001b[0;32m     20\u001b[0m         \u001b[1;31m# converting BGR to HSV\u001b[0m\u001b[1;33m\u001b[0m\u001b[1;33m\u001b[0m\u001b[1;33m\u001b[0m\u001b[0m\n\u001b[1;32m---> 21\u001b[1;33m         \u001b[0mhsv\u001b[0m \u001b[1;33m=\u001b[0m \u001b[0mcv2\u001b[0m\u001b[1;33m.\u001b[0m\u001b[0mcvtColor\u001b[0m\u001b[1;33m(\u001b[0m\u001b[0mframe\u001b[0m\u001b[1;33m,\u001b[0m \u001b[0mcv2\u001b[0m\u001b[1;33m.\u001b[0m\u001b[0mCOLOR_BGR2HSV\u001b[0m\u001b[1;33m)\u001b[0m\u001b[1;33m\u001b[0m\u001b[1;33m\u001b[0m\u001b[0m\n\u001b[0m\u001b[0;32m     22\u001b[0m \u001b[1;33m\u001b[0m\u001b[0m\n\u001b[0;32m     23\u001b[0m         \u001b[1;31m# define range of red color in HSV\u001b[0m\u001b[1;33m\u001b[0m\u001b[1;33m\u001b[0m\u001b[1;33m\u001b[0m\u001b[0m\n",
      "\u001b[1;31merror\u001b[0m: OpenCV(4.2.0) C:\\projects\\opencv-python\\opencv\\modules\\imgproc\\src\\color.cpp:182: error: (-215:Assertion failed) !_src.empty() in function 'cv::cvtColor'\n"
     ]
    }
   ],
   "source": [
    "# OpenCV program to perform Edge detection in real time \n",
    "# import libraries of python OpenCV \n",
    "# where its functionality resides \n",
    "import cv2 \n",
    "\n",
    "# np is an alias pointing to numpy library \n",
    "import numpy as np \n",
    "\n",
    "\n",
    "# capture frames from a camera \n",
    "cap = cv2.VideoCapture('D:/IRDE/Frame separation input/Input/Video 3.asf') \n",
    "\n",
    "\n",
    "# loop runs if capturing has been initialized \n",
    "while(1): \n",
    "\n",
    "\t# reads frames from a camera \n",
    "\tret, frame = cap.read() \n",
    "\n",
    "\t# converting BGR to HSV \n",
    "\thsv = cv2.cvtColor(frame, cv2.COLOR_BGR2HSV) \n",
    "\t\n",
    "\t# define range of red color in HSV \n",
    "\tlower_red = np.array([30,150,50]) \n",
    "\tupper_red = np.array([255,255,180]) \n",
    "\t\n",
    "\t# create a red HSV colour boundary and \n",
    "\t# threshold HSV image \n",
    "\tmask = cv2.inRange(hsv, lower_red, upper_red) \n",
    "\n",
    "\t# Bitwise-AND mask and original image \n",
    "\tres = cv2.bitwise_and(frame,frame, mask= mask) \n",
    "\n",
    "\t# Display an original image \n",
    "\tcv2.imshow('Original',frame) \n",
    "\n",
    "\t# finds edges in the input image image and \n",
    "\t# marks them in the output map edges \n",
    "\tedges = cv2.Canny(frame,100,200) \n",
    "\n",
    "\t# Display edges in a frame \n",
    "\tcv2.imshow('Edges',edges) \n",
    "\n",
    "\t# Wait for Esc key to stop \n",
    "\tk = cv2.waitKey(60) & 0xFF\n",
    "\tif k == 27: \n",
    "\t\tbreak\n",
    "\n",
    "\n",
    "# Close the window \n",
    "cap.release() \n",
    "\n",
    "# De-allocate any associated memory usage \n",
    "cv2.destroyAllWindows() \n"
   ]
  },
  {
   "cell_type": "code",
   "execution_count": null,
   "metadata": {},
   "outputs": [],
   "source": []
  }
 ],
 "metadata": {
  "kernelspec": {
   "display_name": "Python 3",
   "language": "python",
   "name": "python3"
  },
  "language_info": {
   "codemirror_mode": {
    "name": "ipython",
    "version": 3
   },
   "file_extension": ".py",
   "mimetype": "text/x-python",
   "name": "python",
   "nbconvert_exporter": "python",
   "pygments_lexer": "ipython3",
   "version": "3.7.6"
  }
 },
 "nbformat": 4,
 "nbformat_minor": 4
}
